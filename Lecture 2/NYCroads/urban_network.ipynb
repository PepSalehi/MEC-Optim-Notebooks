{
 "cells": [
  {
   "cell_type": "markdown",
   "metadata": {},
   "source": [
    "# Lecture 2 - 3"
   ]
  },
  {
   "cell_type": "markdown",
   "metadata": {},
   "source": [
    "## Shortest path problem by road in NYC"
   ]
  },
  {
   "cell_type": "markdown",
   "metadata": {},
   "source": [
    "Reference: \n",
    "\n",
    "Charpentier, A., Galichon, A., Vernet, L. (2017).  \n",
    "\n",
    "\"Equilibrium for spatial allocation problems on networks\""
   ]
  },
  {
   "cell_type": "code",
   "execution_count": 6,
   "metadata": {},
   "outputs": [],
   "source": [
    "library(\"Matrix\")\n",
    "library(\"gurobi\")\n",
    "library(\"rgdal\")\n",
    "library(\"rdist\")"
   ]
  },
  {
   "cell_type": "code",
   "execution_count": 7,
   "metadata": {},
   "outputs": [],
   "source": [
    "load(\"DataNYC.RData\")"
   ]
  },
  {
   "cell_type": "markdown",
   "metadata": {},
   "source": [
    "Function for shortest path"
   ]
  },
  {
   "cell_type": "code",
   "execution_count": 8,
   "metadata": {},
   "outputs": [],
   "source": [
    "shortestPath = function(arcs, nodes, originNode, destinationNode) {\n",
    "    nbNodes = dim(nodes)[1]\n",
    "    nbArcs = dim(arcs)[1]\n",
    "    n = rep(0, nbNodes)\n",
    "    n[c(originNode, destinationNode)] = c(-1, 1)\n",
    "    Nabla = sparseMatrix(i = 1:nbArcs, j = arcs[, 1], dims = c(nbArcs, nbNodes), \n",
    "        x = -1) + sparseMatrix(i = 1:nbArcs, j = arcs[, 2], dims = c(nbArcs, nbNodes), \n",
    "        x = 1)\n",
    "    Phi <- -arcs[, 3]\n",
    "    \n",
    "    result = gurobi(list(A = t(Nabla), obj = Phi, modelsense = \"max\", rhs = n, sense = \"=\", \n",
    "        start = matrix(0, nbArcs, 1)), params = NULL)\n",
    "    pi = result$x\n",
    "    distance = -result$objval\n",
    "    \n",
    "    cont = TRUE\n",
    "    i = originNode\n",
    "    eqpath = which(pi > 0)\n",
    "    rank = 0\n",
    "    nodespath = c(0)\n",
    "    nodespath[rank + 1] = i\n",
    "    while (cont) {\n",
    "        rank = rank + 1\n",
    "        leavingi = which(Nabla[, i] == -1)\n",
    "        a = intersect(eqpath, leavingi)[1]\n",
    "        j = which(Nabla[a, ] == 1)[1]\n",
    "        i = j\n",
    "        nodespath[rank + 1] = i\n",
    "        if (j == destinationNode) {\n",
    "            cont <- FALSE\n",
    "        }\n",
    "    }\n",
    "    \n",
    "    return(nodespath)\n",
    "    \n",
    "    plot(shpNYC)\n",
    "    points(nodes[nodespath, ], col = \"red\")\n",
    "}"
   ]
  },
  {
   "cell_type": "markdown",
   "metadata": {},
   "source": [
    "Excecute the function"
   ]
  },
  {
   "cell_type": "code",
   "execution_count": 10,
   "metadata": {},
   "outputs": [
    {
     "ename": "ERROR",
     "evalue": "Error in eval(expr, envir, enclos): object 'nbNodes' not found\n",
     "output_type": "error",
     "traceback": [
      "Error in eval(expr, envir, enclos): object 'nbNodes' not found\nTraceback:\n"
     ]
    }
   ],
   "source": [
    "nbNodes"
   ]
  },
  {
   "cell_type": "markdown",
   "metadata": {},
   "source": [
    "To get coordinates associated with an address:\n",
    "https://www.gps-coordinates.net/"
   ]
  },
  {
   "cell_type": "code",
   "execution_count": 11,
   "metadata": {},
   "outputs": [
    {
     "name": "stdout",
     "output_type": "stream",
     "text": [
      "Optimize a model with 67316 rows, 169399 columns and 338796 nonzeros\n",
      "Coefficient statistics:\n",
      "  Matrix range     [1e+00, 1e+00]\n",
      "  Objective range  [5e+00, 1e+04]\n",
      "  Bounds range     [0e+00, 0e+00]\n",
      "  RHS range        [1e+00, 1e+00]\n",
      "\n",
      "Concurrent LP optimizer: dual simplex and barrier\n",
      "Showing barrier log only...\n",
      "\n",
      "Presolve removed 17773 rows and 28823 columns\n",
      "Presolve time: 0.90s\n",
      "Presolved: 49543 rows, 140576 columns, 281146 nonzeros\n",
      "\n",
      "Ordering time: 0.00s\n",
      "\n",
      "Barrier statistics:\n",
      " AA' NZ     : 8.984e+04\n",
      " Factor NZ  : 8.256e+05 (roughly 80 MBytes of memory)\n",
      " Factor Ops : 1.873e+07 (less than 1 second per iteration)\n",
      " Threads    : 1\n",
      "\n",
      "                  Objective                Residual\n",
      "Iter       Primal          Dual         Primal    Dual     Compl     Time\n",
      "   0  -4.22816139e+07  3.57483804e+02  5.30e+00 3.84e+03  8.76e+03     1s\n",
      "   1  -3.80006823e+07 -2.24488020e+03  1.24e-01 2.51e+03  2.13e+03     2s\n",
      "   2  -2.88697338e+07 -3.02933993e+03  6.99e-03 2.57e+02  3.64e+02     2s\n",
      "   3  -6.13984474e+06 -5.15559077e+03  2.33e-04 1.35e+01  4.64e+01     2s\n",
      "   4  -7.72223691e+05 -1.47773761e+04  2.35e-05 5.75e-01  5.43e+00     2s\n",
      "   5  -3.32665358e+05 -2.65673557e+04  8.72e-06 1.54e-01  2.19e+00     2s\n",
      "   6  -1.65534906e+05 -3.02040135e+04  3.64e-06 1.03e-01  9.65e-01     2s\n",
      "   7  -7.38236888e+04 -3.15957825e+04  1.05e-06 0.00e+00  3.01e-01     2s\n",
      "   8  -3.36387211e+04 -3.24070539e+04  1.90e-08 8.01e-03  8.77e-03     2s\n",
      "   9  -3.24484919e+04 -3.24433661e+04  1.43e-12 3.41e-12  3.65e-05     2s\n",
      "  10  -3.24453089e+04 -3.24453073e+04  2.69e-12 3.50e-12  1.11e-08     2s\n",
      "  11  -3.24453075e+04 -3.24453075e+04  3.82e-12 3.41e-12  1.11e-14     2s\n",
      "\n",
      "Barrier solved model in 11 iterations and 2.34 seconds\n",
      "Optimal objective -3.24453075e+04\n",
      "\n",
      "Crossover log...\n",
      "\n",
      "       0 DPushes remaining with DInf 7.2700601e-10                 3s\n",
      "\n",
      "       0 PPushes remaining with PInf 0.0000000e+00                 3s\n",
      "\n",
      "  Push phase complete: Pinf 0.0000000e+00, Dinf 7.2700601e-10      3s\n",
      "\n",
      "Iteration    Objective       Primal Inf.    Dual Inf.      Time\n",
      "   49434   -3.2445308e+04   0.000000e+00   0.000000e+00      3s\n",
      "\n",
      "Solved with barrier\n",
      "Solved in 49434 iterations and 2.76 seconds\n",
      "Optimal objective -3.244530753e+04\n"
     ]
    }
   ],
   "source": [
    "startlat = 40.70102\n",
    "startlong = -73.90414\n",
    "finishlat = 40.7290094\n",
    "finishlong = -73.9952367\n",
    "\n",
    "StartGPS = matrix(c(startlong, startlat), ncol = 2)\n",
    "FinishGPS = matrix(c(finishlong, finishlat), ncol = 2)\n",
    "StartNAD83 = project(StartGPS, \"+proj=lcc +lat_1=40.66666666666666 +lat_2=41.03333333333333 +lat_0=40.16666666666666 +lon_0=-74 +x_0=300000 +y_0=0 +datum=NAD83 +units=us-ft +no_defs\")\n",
    "FinishNAD83 = project(FinishGPS, \"+proj=lcc +lat_1=40.66666666666666 +lat_2=41.03333333333333 +lat_0=40.16666666666666 +lon_0=-74 +x_0=300000 +y_0=0 +datum=NAD83 +units=us-ft +no_defs\")\n",
    "StartNode = which.min(cdist(StartNAD83, nodes, metric = \"euclidean\"))\n",
    "FinishNode = which.min(cdist(FinishNAD83, nodes, metric = \"euclidean\"))\n",
    "nodespath = shortestPath(arcs, nodes, StartNode, FinishNode)"
   ]
  },
  {
   "cell_type": "markdown",
   "metadata": {},
   "source": [
    "Plot the result (this will take a while, so don't worry)."
   ]
  },
  {
   "cell_type": "code",
   "execution_count": 12,
   "metadata": {},
   "outputs": [
    {
     "data": {
      "image/png": "[encoded data removed]",
      "text/plain": [
       "plot without title"
      ]
     },
     "metadata": {},
     "output_type": "display_data"
    }
   ],
   "source": [
    "plot(shpNYC)\n",
    "points(nodes[nodespath, ], col = \"red\")"
   ]
  }
 ],
 "metadata": {
  "kernelspec": {
   "display_name": "R",
   "language": "R",
   "name": "ir"
  },
  "language_info": {
   "codemirror_mode": "r",
   "file_extension": ".r",
   "mimetype": "text/x-r-source",
   "name": "R",
   "pygments_lexer": "r",
   "version": "3.5.2"
  }
 },
 "nbformat": 4,
 "nbformat_minor": 2
}
