{
 "cells": [
  {
   "cell_type": "markdown",
   "metadata": {},
   "source": [
    "# Lecture 2 - 1"
   ]
  },
  {
   "cell_type": "markdown",
   "metadata": {},
   "source": [
    "## Soviet planning problem"
   ]
  },
  {
   "cell_type": "markdown",
   "metadata": {},
   "source": [
    "We are trying to "
   ]
  },
  {
   "cell_type": "markdown",
   "metadata": {},
   "source": [
    "The problem that we are trying to solve is \n",
    "\\begin{align}\n",
    "\\min_{\\pi \\geq 0} \\sum_{(x,y) \\in \\mathcal{A}} \\pi_{xy} c_{xy} \\\\\n",
    "\\text{s.t. } \\nabla^T \\pi = n \n",
    "\\end{align}"
   ]
  },
  {
   "cell_type": "code",
   "execution_count": 1,
   "metadata": {},
   "outputs": [
    {
     "name": "stderr",
     "output_type": "stream",
     "text": [
      "Loading required package: slam\n",
      "Warning message:\n",
      "\"package 'slam' was built under R version 3.5.2\""
     ]
    },
    {
     "data": {
      "text/html": [
       "<table>\n",
       "<thead><tr><th scope=col>X</th><th scope=col>Arkhangelsk</th><th scope=col>Yaroslavl.</th><th scope=col>Murom</th><th scope=col>Balakhonikha</th><th scope=col>Dzerzhinsk</th><th scope=col>Kishert.</th><th scope=col>Sverdlovsk</th><th scope=col>Artemovsk</th><th scope=col>Iledzhk</th><th scope=col>Dekonskaya</th><th scope=col>demand.</th></tr></thead>\n",
       "<tbody>\n",
       "\t<tr><td>Agryz      </td><td>NA         </td><td>NA         </td><td>NA         </td><td> 709       </td><td>1064       </td><td> 693       </td><td>NA         </td><td>NA         </td><td>NA         </td><td>NA         </td><td>  2.0      </td></tr>\n",
       "\t<tr><td>Aleksandrov</td><td>NA         </td><td>NA         </td><td>NA         </td><td>NA         </td><td> 397       </td><td>NA         </td><td>NA         </td><td>1180       </td><td>NA         </td><td>NA         </td><td>  4.0      </td></tr>\n",
       "\t<tr><td>Almaznaya  </td><td>NA         </td><td>NA         </td><td>NA         </td><td>NA         </td><td>NA         </td><td>NA         </td><td>NA         </td><td>  81       </td><td>NA         </td><td>  65       </td><td>  1.5      </td></tr>\n",
       "\t<tr><td>Alchevskaya</td><td>NA         </td><td>NA         </td><td>NA         </td><td>NA         </td><td>NA         </td><td>NA         </td><td>NA         </td><td> 106       </td><td>NA         </td><td> 114       </td><td>  4.0      </td></tr>\n",
       "\t<tr><td>Baku       </td><td>NA         </td><td>NA         </td><td>NA         </td><td>NA         </td><td>NA         </td><td>NA         </td><td>NA         </td><td>1554       </td><td>NA         </td><td>1563       </td><td> 10.0      </td></tr>\n",
       "\t<tr><td>Barybino   </td><td>NA         </td><td>NA         </td><td>NA         </td><td>NA         </td><td>NA         </td><td>NA         </td><td>NA         </td><td> 985       </td><td>NA         </td><td> 968       </td><td>  2.0      </td></tr>\n",
       "</tbody>\n",
       "</table>\n"
      ],
      "text/latex": [
       "\\begin{tabular}{llllllllllll}\n",
       " X & Arkhangelsk & Yaroslavl. & Murom & Balakhonikha & Dzerzhinsk & Kishert. & Sverdlovsk & Artemovsk & Iledzhk & Dekonskaya & demand.\\\\\n",
       "\\hline\n",
       "\t Agryz       & NA          & NA          & NA          &  709        & 1064        &  693        & NA          & NA          & NA          & NA          &   2.0      \\\\\n",
       "\t Aleksandrov & NA          & NA          & NA          & NA          &  397        & NA          & NA          & 1180        & NA          & NA          &   4.0      \\\\\n",
       "\t Almaznaya   & NA          & NA          & NA          & NA          & NA          & NA          & NA          &   81        & NA          &   65        &   1.5      \\\\\n",
       "\t Alchevskaya & NA          & NA          & NA          & NA          & NA          & NA          & NA          &  106        & NA          &  114        &   4.0      \\\\\n",
       "\t Baku        & NA          & NA          & NA          & NA          & NA          & NA          & NA          & 1554        & NA          & 1563        &  10.0      \\\\\n",
       "\t Barybino    & NA          & NA          & NA          & NA          & NA          & NA          & NA          &  985        & NA          &  968        &   2.0      \\\\\n",
       "\\end{tabular}\n"
      ],
      "text/markdown": [
       "\n",
       "| X | Arkhangelsk | Yaroslavl. | Murom | Balakhonikha | Dzerzhinsk | Kishert. | Sverdlovsk | Artemovsk | Iledzhk | Dekonskaya | demand. |\n",
       "|---|---|---|---|---|---|---|---|---|---|---|---|\n",
       "| Agryz       | NA          | NA          | NA          |  709        | 1064        |  693        | NA          | NA          | NA          | NA          |   2.0       |\n",
       "| Aleksandrov | NA          | NA          | NA          | NA          |  397        | NA          | NA          | 1180        | NA          | NA          |   4.0       |\n",
       "| Almaznaya   | NA          | NA          | NA          | NA          | NA          | NA          | NA          |   81        | NA          |   65        |   1.5       |\n",
       "| Alchevskaya | NA          | NA          | NA          | NA          | NA          | NA          | NA          |  106        | NA          |  114        |   4.0       |\n",
       "| Baku        | NA          | NA          | NA          | NA          | NA          | NA          | NA          | 1554        | NA          | 1563        |  10.0       |\n",
       "| Barybino    | NA          | NA          | NA          | NA          | NA          | NA          | NA          |  985        | NA          |  968        |   2.0       |\n",
       "\n"
      ],
      "text/plain": [
       "     X           Arkhangelsk Yaroslavl. Murom Balakhonikha Dzerzhinsk Kishert.\n",
       "[1,] Agryz       NA          NA         NA     709         1064        693    \n",
       "[2,] Aleksandrov NA          NA         NA    NA            397       NA      \n",
       "[3,] Almaznaya   NA          NA         NA    NA           NA         NA      \n",
       "[4,] Alchevskaya NA          NA         NA    NA           NA         NA      \n",
       "[5,] Baku        NA          NA         NA    NA           NA         NA      \n",
       "[6,] Barybino    NA          NA         NA    NA           NA         NA      \n",
       "     Sverdlovsk Artemovsk Iledzhk Dekonskaya demand.\n",
       "[1,] NA         NA        NA      NA           2.0  \n",
       "[2,] NA         1180      NA      NA           4.0  \n",
       "[3,] NA           81      NA        65         1.5  \n",
       "[4,] NA          106      NA       114         4.0  \n",
       "[5,] NA         1554      NA      1563        10.0  \n",
       "[6,] NA          985      NA       968         2.0  "
      ]
     },
     "metadata": {},
     "output_type": "display_data"
    },
    {
     "data": {
      "text/html": [
       "<table>\n",
       "<thead><tr><th></th><th scope=col>X</th><th scope=col>Arkhangelsk</th><th scope=col>Yaroslavl.</th><th scope=col>Murom</th><th scope=col>Balakhonikha</th><th scope=col>Dzerzhinsk</th><th scope=col>Kishert.</th><th scope=col>Sverdlovsk</th><th scope=col>Artemovsk</th><th scope=col>Iledzhk</th><th scope=col>Dekonskaya</th><th scope=col>demand.</th></tr></thead>\n",
       "<tbody>\n",
       "\t<tr><th scope=row>[64,]</th><td>Chishmy     </td><td>NA          </td><td>NA          </td><td>NA          </td><td>1123        </td><td>NA          </td><td> 773        </td><td>NA          </td><td>NA          </td><td> 889        </td><td>NA          </td><td>  0.5       </td></tr>\n",
       "\t<tr><th scope=row>[65,]</th><td>Shchigry    </td><td>NA          </td><td>NA          </td><td>NA          </td><td>NA          </td><td>NA          </td><td>NA          </td><td>NA          </td><td> 566        </td><td>NA          </td><td> 549        </td><td>  4.0       </td></tr>\n",
       "\t<tr><th scope=row>[66,]</th><td>Yudino      </td><td>NA          </td><td>NA          </td><td>NA          </td><td> 403        </td><td> 757        </td><td> 999        </td><td>NA          </td><td>NA          </td><td>NA          </td><td>NA          </td><td>  0.5       </td></tr>\n",
       "\t<tr><th scope=row>[67,]</th><td>Yama        </td><td>NA          </td><td>NA          </td><td>NA          </td><td>NA          </td><td>NA          </td><td>NA          </td><td>NA          </td><td>  44        </td><td>NA          </td><td>  52        </td><td>  5.0       </td></tr>\n",
       "\t<tr><th scope=row>[68,]</th><td>Yasinovataya</td><td>NA          </td><td>NA          </td><td>NA          </td><td>NA          </td><td>NA          </td><td>NA          </td><td>NA          </td><td>  85        </td><td>NA          </td><td>  93        </td><td>  6.0       </td></tr>\n",
       "\t<tr><th scope=row>[69,]</th><td>supply:     </td><td>   5        </td><td> 11.5       </td><td>  8.5       </td><td>  12        </td><td> 100        </td><td>  12        </td><td> 15         </td><td> 314        </td><td>  10        </td><td>  55        </td><td>543.0       </td></tr>\n",
       "</tbody>\n",
       "</table>\n"
      ],
      "text/latex": [
       "\\begin{tabular}{r|llllllllllll}\n",
       "  & X & Arkhangelsk & Yaroslavl. & Murom & Balakhonikha & Dzerzhinsk & Kishert. & Sverdlovsk & Artemovsk & Iledzhk & Dekonskaya & demand.\\\\\n",
       "\\hline\n",
       "\t{[}64,{]} & Chishmy      & NA           & NA           & NA           & 1123         & NA           &  773         & NA           & NA           &  889         & NA           &   0.5       \\\\\n",
       "\t{[}65,{]} & Shchigry     & NA           & NA           & NA           & NA           & NA           & NA           & NA           &  566         & NA           &  549         &   4.0       \\\\\n",
       "\t{[}66,{]} & Yudino       & NA           & NA           & NA           &  403         &  757         &  999         & NA           & NA           & NA           & NA           &   0.5       \\\\\n",
       "\t{[}67,{]} & Yama         & NA           & NA           & NA           & NA           & NA           & NA           & NA           &   44         & NA           &   52         &   5.0       \\\\\n",
       "\t{[}68,{]} & Yasinovataya & NA           & NA           & NA           & NA           & NA           & NA           & NA           &   85         & NA           &   93         &   6.0       \\\\\n",
       "\t{[}69,{]} & supply:      &    5         &  11.5        &   8.5        &   12         &  100         &   12         &  15          &  314         &   10         &   55         & 543.0       \\\\\n",
       "\\end{tabular}\n"
      ],
      "text/markdown": [
       "\n",
       "| <!--/--> | X | Arkhangelsk | Yaroslavl. | Murom | Balakhonikha | Dzerzhinsk | Kishert. | Sverdlovsk | Artemovsk | Iledzhk | Dekonskaya | demand. |\n",
       "|---|---|---|---|---|---|---|---|---|---|---|---|---|\n",
       "| [64,] | Chishmy      | NA           | NA           | NA           | 1123         | NA           |  773         | NA           | NA           |  889         | NA           |   0.5        |\n",
       "| [65,] | Shchigry     | NA           | NA           | NA           | NA           | NA           | NA           | NA           |  566         | NA           |  549         |   4.0        |\n",
       "| [66,] | Yudino       | NA           | NA           | NA           |  403         |  757         |  999         | NA           | NA           | NA           | NA           |   0.5        |\n",
       "| [67,] | Yama         | NA           | NA           | NA           | NA           | NA           | NA           | NA           |   44         | NA           |   52         |   5.0        |\n",
       "| [68,] | Yasinovataya | NA           | NA           | NA           | NA           | NA           | NA           | NA           |   85         | NA           |   93         |   6.0        |\n",
       "| [69,] | supply:      |    5         |  11.5        |   8.5        |   12         |  100         |   12         |  15          |  314         |   10         |   55         | 543.0        |\n",
       "\n"
      ],
      "text/plain": [
       "      X            Arkhangelsk Yaroslavl. Murom Balakhonikha Dzerzhinsk\n",
       "[64,] Chishmy      NA          NA         NA    1123         NA        \n",
       "[65,] Shchigry     NA          NA         NA    NA           NA        \n",
       "[66,] Yudino       NA          NA         NA     403          757      \n",
       "[67,] Yama         NA          NA         NA    NA           NA        \n",
       "[68,] Yasinovataya NA          NA         NA    NA           NA        \n",
       "[69,] supply:         5         11.5        8.5   12          100      \n",
       "      Kishert. Sverdlovsk Artemovsk Iledzhk Dekonskaya demand.\n",
       "[64,]  773     NA         NA         889    NA           0.5  \n",
       "[65,] NA       NA          566      NA       549         4.0  \n",
       "[66,]  999     NA         NA        NA      NA           0.5  \n",
       "[67,] NA       NA           44      NA        52         5.0  \n",
       "[68,] NA       NA           85      NA        93         6.0  \n",
       "[69,]   12      15         314        10      55       543.0  "
      ]
     },
     "metadata": {},
     "output_type": "display_data"
    }
   ],
   "source": [
    "library(\"gurobi\")\n",
    "library(\"Matrix\")\n",
    "\n",
    "thePath = getwd()\n",
    "data = as.matrix(read.csv(paste0(thePath, \"/distances.csv\"), sep = \",\", header = TRUE))  # loads the data\n",
    "head(data)\n",
    "tail(data)"
   ]
  },
  {
   "cell_type": "code",
   "execution_count": 2,
   "metadata": {},
   "outputs": [],
   "source": [
    "nsources = 68\n",
    "ndests = 10\n",
    "dists = matrix(as.numeric(data[1:68, 2:11]), 68, 10)\n",
    "demand = matrix(as.numeric(data[1:68, 12]))\n",
    "supply = matrix(as.numeric(data[69, 2:11]))\n",
    "nonzeros = which(!is.na(dists))\n",
    "\n",
    "nbNodes = nsources + ndests\n",
    "nbArcs = length(nonzeros)\n",
    "\n",
    "rows = (nonzeros - 1)%%nsources + 1\n",
    "cols = (nonzeros - 1)%/%nsources + 1\n",
    "c = dists[nonzeros]\n",
    "arcs = cbind(rows, cols + nsources, c)\n",
    "\n",
    "n = c(-demand, supply)\n",
    "nameNodes = c(data[2:(nsources + 1)], dimnames(data)[[2]][2:11])"
   ]
  },
  {
   "cell_type": "markdown",
   "metadata": {},
   "source": [
    "Construct node-incidence matrix:"
   ]
  },
  {
   "cell_type": "code",
   "execution_count": 3,
   "metadata": {},
   "outputs": [],
   "source": [
    "Nabla = sparseMatrix(i = 1:nbArcs, j = arcs[, 1], dims = c(nbArcs, nbNodes), x = -1) + \n",
    "    sparseMatrix(i = 1:nbArcs, j = arcs[, 2], dims = c(nbArcs, nbNodes), x = 1)"
   ]
  },
  {
   "cell_type": "markdown",
   "metadata": {},
   "source": [
    "Now let's solve using Gurobi:\n",
    "* `A` = $\\nabla^T$\n",
    "* `obj` = $c$\n",
    "* `sense` = '$=$'\n",
    "* `rhs` = $n$\n",
    "* `modelsense` = '$\\min$'."
   ]
  },
  {
   "cell_type": "code",
   "execution_count": 4,
   "metadata": {},
   "outputs": [
    {
     "name": "stdout",
     "output_type": "stream",
     "text": [
      "Optimize a model with 78 rows, 155 columns and 310 nonzeros\n",
      "Coefficient statistics:\n",
      "  Matrix range     [1e+00, 1e+00]\n",
      "  Objective range  [1e+01, 3e+03]\n",
      "  Bounds range     [0e+00, 0e+00]\n",
      "  RHS range        [5e-01, 3e+02]\n",
      "Presolve removed 48 rows and 48 columns\n",
      "Presolve time: 0.00s\n",
      "Presolved: 30 rows, 107 columns, 214 nonzeros\n",
      "\n",
      "Iteration    Objective       Primal Inf.    Dual Inf.      Time\n",
      "       0    1.6658785e+05   4.252320e+02   0.000000e+00      0s\n",
      "      37    3.9505200e+05   0.000000e+00   0.000000e+00      0s\n",
      "\n",
      "Solved in 37 iterations and 0.00 seconds\n",
      "Optimal objective  3.950520000e+05\n",
      "[1] 395052\n"
     ]
    }
   ],
   "source": [
    "result = gurobi(list(A = t(Nabla), obj = c, modelsense = \"min\", rhs = n, sense = \"=\", \n",
    "    start = matrix(0, nbArcs, 1)), params = NULL)\n",
    "pi = result$x\n",
    "distance = result$objval\n",
    "\n",
    "print(distance)"
   ]
  }
 ],
 "metadata": {
  "kernelspec": {
   "display_name": "R",
   "language": "R",
   "name": "ir"
  },
  "language_info": {
   "codemirror_mode": "r",
   "file_extension": ".r",
   "mimetype": "text/x-r-source",
   "name": "R",
   "pygments_lexer": "r",
   "version": "3.5.2"
  }
 },
 "nbformat": 4,
 "nbformat_minor": 2
}
